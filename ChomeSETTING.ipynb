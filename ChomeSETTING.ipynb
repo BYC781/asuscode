{
 "cells": [
  {
   "cell_type": "code",
   "execution_count": null,
   "metadata": {},
   "outputs": [],
   "source": [
    "import os\n",
    "from selenium import webdriver\n",
    "from selenium.webdriver.chrome.options import Options\n",
    "os.system(r'start chrome --remote-debugging-port=9527 --user-data-dir=\"c:\\Users\\ElvisBY_Chen\\OneDrive - ASUS\\Documents\\asuscode\\ChromeSETTING\"')\n",
    "options = Options()\n",
    "options.add_experimental_option(\"debuggerAddress\", \"127.0.0.1:9527\")\n",
    "google = webdriver.Chrome(options=options)"
   ]
  }
 ],
 "metadata": {
  "language_info": {
   "name": "python"
  },
  "orig_nbformat": 4
 },
 "nbformat": 4,
 "nbformat_minor": 2
}
