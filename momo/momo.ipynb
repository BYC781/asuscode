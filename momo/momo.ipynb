{
 "cells": [
  {
   "cell_type": "code",
   "execution_count": 1,
   "metadata": {},
   "outputs": [],
   "source": [
    "from selenium import webdriver\n",
    "from selenium.webdriver.support.wait import WebDriverWait\n",
    "from selenium.webdriver.support import expected_conditions as EC\n",
    "from selenium.webdriver.common.by import By\n",
    "from bs4 import BeautifulSoup as Soup\n",
    "from random import randint\n",
    "import pandas as pd\n",
    "from fake_useragent import UserAgent"
   ]
  },
  {
   "cell_type": "code",
   "execution_count": 2,
   "metadata": {},
   "outputs": [],
   "source": [
    "driver = webdriver.Edge()\n",
    "driver.implicitly_wait(20)"
   ]
  },
  {
   "cell_type": "code",
   "execution_count": 5,
   "metadata": {},
   "outputs": [
    {
     "data": {
      "text/plain": [
       "'https://www.momoshop.com.tw/category/DgrpCategory.jsp?d_code=2142800355&p_orderType=6&showType=chessboardType'"
      ]
     },
     "execution_count": 5,
     "metadata": {},
     "output_type": "execute_result"
    }
   ],
   "source": [
    "current_url = driver.current_url\n",
    "current_url"
   ]
  },
  {
   "cell_type": "code",
   "execution_count": null,
   "metadata": {},
   "outputs": [],
   "source": [
    "container = pd.DataFrame(columns= ['Products', 'Prices', 'URL', 'Sales'])"
   ]
  },
  {
   "cell_type": "code",
   "execution_count": 35,
   "metadata": {},
   "outputs": [],
   "source": [
    "prds = driver.find_elements(By.XPATH, '//*[@id=\"goodsAttrRoot\"]/div[3]/div[4]/ul/li/a/div[2]/div/h3')\n",
    "prices = driver.find_elements(By.XPATH, '//*[@id=\"goodsAttrRoot\"]/div[3]/div[4]/ul/li/a/div[2]/span[3]')\n",
    "url = driver.find_elements(By.XPATH, '//*[@id=\"goodsAttrRoot\"]/div[3]/div[4]/ul/li/a')\n",
    "salenum = driver.find_elements(By.XPATH, '//*[@id=\"goodsAttrRoot\"]/div[3]/div[4]/ul/li/a/div[2]/span[4]')\n",
    "for idx in range(len(prds)):\n",
    "    container.loc[idx, 'Products'] = prds[idx].get_attribute('textContent')\n",
    "    container.loc[idx, 'Prices'] = prices[idx].get_attribute('textContent')\n",
    "    container.loc[idx, 'URL'] = url[idx].get_attribute('href')\n",
    "    container.loc[idx, 'Sales'] = salenum[idx].get_attribute('textContent')\n",
    "container"
   ]
  },
  {
   "cell_type": "markdown",
   "metadata": {},
   "source": [
    "### Process function"
   ]
  },
  {
   "cell_type": "code",
   "execution_count": 3,
   "metadata": {},
   "outputs": [],
   "source": [
    "def process(number):\n",
    "  search_key_list = ['HP%20惠普', 'Acer%20宏碁', 'DELL%20戴爾', 'Lenovo']\n",
    "  brandNo_list = ['20160808155739954', '20160808155608760', '20160808155655766', '20160808155811738']\n",
    "  search_key = search_key_list[number]\n",
    "  brandNo = brandNo_list[number]\n",
    "  driver.get(\"https://www.momoshop.com.tw/main/Main.jsp\")\n",
    "  brand_url = 'https://www.momoshop.com.tw/search/searchShop.jsp?keyword=' + search_key + '&searchType=1&curPage=1&_isFuzzy=0&brand=' + search_key + '&brandNo='+ brandNo +'&showType=chessboardType&isBrandCategory=N&serviceCode=MT01'\n",
    "  # 獲取當前網頁的URL\n",
    "  driver.get(brand_url)\n",
    "  current_url = driver.current_url\n",
    "\n",
    "  # 找到\"curPage=\"的位置\n",
    "  start_index = current_url.find(\"curPage=\")\n",
    "\n",
    "  if start_index != -1:\n",
    "      # 找到\"curPage=\"的結尾位置（即數字的結尾位置）\n",
    "      end_index = current_url.find(\"&\", start_index)\n",
    "      \n",
    "      # 提取curPage的數字部分\n",
    "      cur_page_number = current_url[start_index + len(\"curPage=\"):end_index]\n",
    "      \n",
    "      # 將curPage的數字替換為{}\n",
    "      base_url = current_url[:start_index] + \"curPage={}\" + current_url[end_index:]\n",
    "      \n",
    "      # 打印提取的curPage數字\n",
    "      print(\"提取的curPage數字是:\", cur_page_number)\n",
    "      \n",
    "      # 打印修改後的URL\n",
    "      print(\"修改後的URL是:\", base_url)\n",
    "\n",
    "  final_page_index = int(driver.find_element(By.XPATH, '//*[@id=\"BodyBase\"]/div[4]/div[6]/dl/dt/span[2]').get_attribute('textContent').split('/')[1])\n",
    "  print(search_key,\"的搜尋結果共有:\", final_page_index, '頁')\n",
    "\n",
    "  Prods_prices = pd.DataFrame(columns=['ProdNames', 'Prices', 'sales'])\n",
    "\n",
    "  for page_idx in range(1, final_page_index + 1):\n",
    "      # 根據page_idx生成完整的URL\n",
    "      url = base_url.format(page_idx)\n",
    "    \n",
    "      # 訪問該頁面\n",
    "      driver.get(url)\n",
    "      driver.implicitly_wait(randint(5, 10))\n",
    "      prices = driver.find_elements(By.CLASS_NAME, 'price')\n",
    "      prdnames = driver.find_elements(By.CLASS_NAME, 'prdName')\n",
    "      sales = driver.find_elements(By.XPATH, \"//span[@class='totalSales goodsTotalSales']\")\n",
    "\n",
    "      for idx in range(len(prices)):\n",
    "          price_text = prices[idx].text\n",
    "          prd_text = prdnames[idx].text\n",
    "          sale_text = sales[idx].get_attribute('textContent')\n",
    "          new_row = pd.Series({'ProdNames': prd_text, 'Prices': price_text, 'sales':sale_text}).to_frame().T\n",
    "      \n",
    "          # 将抓取到的信息添加到 DataFrame\n",
    "          Prods_prices = pd.concat([Prods_prices, new_row], ignore_index=True)\n",
    "          \n",
    "  return Prods_prices"
   ]
  },
  {
   "cell_type": "code",
   "execution_count": 56,
   "metadata": {},
   "outputs": [
    {
     "name": "stdout",
     "output_type": "stream",
     "text": [
      "提取的curPage數字是: 1\n",
      "修改後的URL是: https://www.momoshop.com.tw/search/searchShop.jsp?keyword=HP%20%E6%83%A0%E6%99%AE&searchType=1&curPage={}&_isFuzzy=0&brand=HP%20%E6%83%A0%E6%99%AE&brandNo=20160808155739954&showType=chessboardType&isBrandCategory=N&serviceCode=MT04\n",
      "HP%20惠普 的搜尋結果共有: 36 頁\n"
     ]
    }
   ],
   "source": [
    "hp = process(0)"
   ]
  },
  {
   "cell_type": "code",
   "execution_count": 57,
   "metadata": {},
   "outputs": [
    {
     "name": "stdout",
     "output_type": "stream",
     "text": [
      "提取的curPage數字是: 1\n",
      "修改後的URL是: https://www.momoshop.com.tw/search/searchShop.jsp?keyword=Acer%20%E5%AE%8F%E7%A2%81&searchType=1&curPage={}&_isFuzzy=0&brand=Acer%20%E5%AE%8F%E7%A2%81&brandNo=20160808155608760&showType=chessboardType&isBrandCategory=N&serviceCode=MT04\n",
      "Acer%20宏碁 的搜尋結果共有: 27 頁\n"
     ]
    }
   ],
   "source": [
    "acer = process(1)"
   ]
  },
  {
   "cell_type": "code",
   "execution_count": 58,
   "metadata": {},
   "outputs": [
    {
     "name": "stdout",
     "output_type": "stream",
     "text": [
      "提取的curPage數字是: 1\n",
      "修改後的URL是: https://www.momoshop.com.tw/search/searchShop.jsp?keyword=DELL%20%E6%88%B4%E7%88%BE&searchType=1&curPage={}&_isFuzzy=0&brand=DELL%20%E6%88%B4%E7%88%BE&brandNo=20160808155655766&showType=chessboardType&isBrandCategory=N&serviceCode=MT04\n",
      "DELL%20戴爾 的搜尋結果共有: 9 頁\n"
     ]
    }
   ],
   "source": [
    "dell = process(2)"
   ]
  },
  {
   "cell_type": "code",
   "execution_count": 59,
   "metadata": {},
   "outputs": [
    {
     "name": "stdout",
     "output_type": "stream",
     "text": [
      "提取的curPage數字是: 1\n",
      "修改後的URL是: https://www.momoshop.com.tw/search/searchShop.jsp?keyword=Lenovo&searchType=1&curPage={}&_isFuzzy=0&brand=Lenovo&brandNo=20160808155811738&showType=chessboardType&isBrandCategory=N&serviceCode=MT04\n",
      "Lenovo 的搜尋結果共有: 19 頁\n"
     ]
    }
   ],
   "source": [
    "lenovo = process(3)"
   ]
  },
  {
   "cell_type": "code",
   "execution_count": 63,
   "metadata": {},
   "outputs": [
    {
     "data": {
      "text/html": [
       "<div>\n",
       "<style scoped>\n",
       "    .dataframe tbody tr th:only-of-type {\n",
       "        vertical-align: middle;\n",
       "    }\n",
       "\n",
       "    .dataframe tbody tr th {\n",
       "        vertical-align: top;\n",
       "    }\n",
       "\n",
       "    .dataframe thead th {\n",
       "        text-align: right;\n",
       "    }\n",
       "</style>\n",
       "<table border=\"1\" class=\"dataframe\">\n",
       "  <thead>\n",
       "    <tr style=\"text-align: right;\">\n",
       "      <th></th>\n",
       "      <th>ProdNames</th>\n",
       "      <th>Prices</th>\n",
       "      <th>sales</th>\n",
       "    </tr>\n",
       "  </thead>\n",
       "  <tbody>\n",
       "    <tr>\n",
       "      <th>0</th>\n",
       "      <td>【Acer 宏碁】14吋N5100輕薄筆電(Swift 1/N5100/8G/256G SS...</td>\n",
       "      <td>$10,888</td>\n",
       "      <td>總銷量&gt;500</td>\n",
       "    </tr>\n",
       "    <tr>\n",
       "      <th>1</th>\n",
       "      <td>【Acer 宏碁】14吋i5 12代輕薄筆電(Aspire 5/i5-1235U/8G/51...</td>\n",
       "      <td>$16,900</td>\n",
       "      <td>總銷量&gt;100</td>\n",
       "    </tr>\n",
       "    <tr>\n",
       "      <th>2</th>\n",
       "      <td>【Acer 宏碁】15.6吋i5 13代輕薄筆電 (Aspire 5 /i5-1335U/8...</td>\n",
       "      <td>$17,900</td>\n",
       "      <td>總銷量&gt;100</td>\n",
       "    </tr>\n",
       "    <tr>\n",
       "      <th>3</th>\n",
       "      <td>【Acer 宏碁】15.6吋i3 13代輕薄筆電(Aspire 5/i3-1305U/8G/...</td>\n",
       "      <td>$13,900</td>\n",
       "      <td>總銷量&gt;100</td>\n",
       "    </tr>\n",
       "    <tr>\n",
       "      <th>4</th>\n",
       "      <td>【Acer 宏碁】14吋i5輕薄筆電(Swift 3/EVO/i5-1240P/16G/51...</td>\n",
       "      <td>$24,900</td>\n",
       "      <td>總銷量&gt;100</td>\n",
       "    </tr>\n",
       "    <tr>\n",
       "      <th>...</th>\n",
       "      <td>...</td>\n",
       "      <td>...</td>\n",
       "      <td>...</td>\n",
       "    </tr>\n",
       "    <tr>\n",
       "      <th>804</th>\n",
       "      <td>【Acer 宏碁】彩色雷射印表機組★15.6吋R7商用筆電*3(TravelMate TMP...</td>\n",
       "      <td>$96,999</td>\n",
       "      <td>總銷量&gt;100</td>\n",
       "    </tr>\n",
       "    <tr>\n",
       "      <th>805</th>\n",
       "      <td>【Acer 宏碁】附1TB硬碟+8G記憶體組★i5十核電腦(Aspire XC-1780/i...</td>\n",
       "      <td>$23,900</td>\n",
       "      <td>總銷量&gt;5,000</td>\n",
       "    </tr>\n",
       "    <tr>\n",
       "      <th>806</th>\n",
       "      <td>【Acer 宏碁】彩色雷射印表機組★15.6吋R7商用筆電*3(TravelMate TMP...</td>\n",
       "      <td>$88,888</td>\n",
       "      <td>總銷量&gt;100</td>\n",
       "    </tr>\n",
       "    <tr>\n",
       "      <th>807</th>\n",
       "      <td>【Acer 宏碁】黑白雷射印表機組★15.6吋R7商用筆電*(TravelMate TMP2...</td>\n",
       "      <td>$82,888</td>\n",
       "      <td>總銷量&gt;100</td>\n",
       "    </tr>\n",
       "    <tr>\n",
       "      <th>808</th>\n",
       "      <td>【Altos】Silver 4216熱抽機架式伺服器(R369F4/Silver-4216/...</td>\n",
       "      <td>$99,000</td>\n",
       "      <td></td>\n",
       "    </tr>\n",
       "  </tbody>\n",
       "</table>\n",
       "<p>809 rows × 3 columns</p>\n",
       "</div>"
      ],
      "text/plain": [
       "                                             ProdNames   Prices      sales\n",
       "0    【Acer 宏碁】14吋N5100輕薄筆電(Swift 1/N5100/8G/256G SS...  $10,888    總銷量>500\n",
       "1    【Acer 宏碁】14吋i5 12代輕薄筆電(Aspire 5/i5-1235U/8G/51...  $16,900    總銷量>100\n",
       "2    【Acer 宏碁】15.6吋i5 13代輕薄筆電 (Aspire 5 /i5-1335U/8...  $17,900    總銷量>100\n",
       "3    【Acer 宏碁】15.6吋i3 13代輕薄筆電(Aspire 5/i3-1305U/8G/...  $13,900    總銷量>100\n",
       "4    【Acer 宏碁】14吋i5輕薄筆電(Swift 3/EVO/i5-1240P/16G/51...  $24,900    總銷量>100\n",
       "..                                                 ...      ...        ...\n",
       "804  【Acer 宏碁】彩色雷射印表機組★15.6吋R7商用筆電*3(TravelMate TMP...  $96,999    總銷量>100\n",
       "805  【Acer 宏碁】附1TB硬碟+8G記憶體組★i5十核電腦(Aspire XC-1780/i...  $23,900  總銷量>5,000\n",
       "806  【Acer 宏碁】彩色雷射印表機組★15.6吋R7商用筆電*3(TravelMate TMP...  $88,888    總銷量>100\n",
       "807  【Acer 宏碁】黑白雷射印表機組★15.6吋R7商用筆電*(TravelMate TMP2...  $82,888    總銷量>100\n",
       "808  【Altos】Silver 4216熱抽機架式伺服器(R369F4/Silver-4216/...  $99,000           \n",
       "\n",
       "[809 rows x 3 columns]"
      ]
     },
     "execution_count": 63,
     "metadata": {},
     "output_type": "execute_result"
    }
   ],
   "source": [
    "acer"
   ]
  }
 ],
 "metadata": {
  "kernelspec": {
   "display_name": "Python 3",
   "language": "python",
   "name": "python3"
  },
  "language_info": {
   "codemirror_mode": {
    "name": "ipython",
    "version": 3
   },
   "file_extension": ".py",
   "mimetype": "text/x-python",
   "name": "python",
   "nbconvert_exporter": "python",
   "pygments_lexer": "ipython3",
   "version": "3.11.5"
  },
  "orig_nbformat": 4
 },
 "nbformat": 4,
 "nbformat_minor": 2
}
