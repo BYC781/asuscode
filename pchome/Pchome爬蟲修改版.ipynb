{
  "cells": [
    {
      "cell_type": "code",
      "execution_count": null,
      "metadata": {
        "id": "JFeuHwBB0yFQ"
      },
      "outputs": [],
      "source": [
        "#https://blog.jiatool.com/posts/pchome_spider01/#%E8%AB%8B%E6%B1%82%E8%B7%AF%E5%BE%91%E8%88%87%E5%8F%83%E6%95%B8"
      ]
    },
    {
      "cell_type": "code",
      "execution_count": null,
      "metadata": {
        "colab": {
          "base_uri": "https://localhost:8080/"
        },
        "id": "b7isg1h7vDN_",
        "outputId": "588efc0e-05c6-4ff9-f038-cab8711c35b6"
      },
      "outputs": [
        {
          "name": "stdout",
          "output_type": "stream",
          "text": [
            "Requirement already satisfied: requests in /usr/local/lib/python3.10/dist-packages (2.31.0)\n",
            "Requirement already satisfied: charset-normalizer<4,>=2 in /usr/local/lib/python3.10/dist-packages (from requests) (3.3.2)\n",
            "Requirement already satisfied: idna<4,>=2.5 in /usr/local/lib/python3.10/dist-packages (from requests) (3.6)\n",
            "Requirement already satisfied: urllib3<3,>=1.21.1 in /usr/local/lib/python3.10/dist-packages (from requests) (2.0.7)\n",
            "Requirement already satisfied: certifi>=2017.4.17 in /usr/local/lib/python3.10/dist-packages (from requests) (2023.11.17)\n"
          ]
        }
      ],
      "source": [
        "pip install requests"
      ]
    },
    {
      "cell_type": "code",
      "execution_count": 1,
      "metadata": {
        "id": "RKAs3DetvF6S"
      },
      "outputs": [],
      "source": [
        "import time\n",
        "import json\n",
        "import random\n",
        "import requests\n",
        "import pandas as pd"
      ]
    },
    {
      "cell_type": "code",
      "execution_count": 2,
      "metadata": {
        "id": "h4a4gDzYvH4K"
      },
      "outputs": [],
      "source": [
        "class PchomeSpider():\n",
        "    \"\"\"PChome線上購物 爬蟲\"\"\"\n",
        "    def __init__(self):\n",
        "        self.headers = {'User-Agent': 'Mozilla/5.0 (Windows NT 10.0; Win64; x64) AppleWebKit/537.36 (KHTML, like Gecko) Chrome/117.0.0.0 Safari/537.36',}\n",
        "    def request_get(self, url, params=None, to_json=True):\n",
        "        \"\"\"送出 GET 請求\n",
        "\n",
        "        :param url: 請求網址\n",
        "        :param params: 傳遞參數資料\n",
        "        :param to_json: 是否要轉為 JSON 格式\n",
        "        :return data: requests 回應資料\n",
        "        \"\"\"\n",
        "        r = requests.get(url, params)\n",
        "        print(r.url)\n",
        "        if r.status_code != requests.codes.ok:\n",
        "            print(f'網頁載入發生問題：{url}')\n",
        "        try:\n",
        "            if to_json:\n",
        "                data = r.json()\n",
        "            else:\n",
        "                data = r.text\n",
        "        except Exception as e:\n",
        "            print(e)\n",
        "            return None\n",
        "        return data\n",
        "    def search_products(self, keyword, max_page=1, shop='全部', sort='有貨優先', price_min=-1, price_max=-1, is_store_pickup=False, is_ipost_pickup=False):\n",
        "        \"\"\"搜尋商品\n",
        "\n",
        "        :param keyword: 搜尋關鍵字\n",
        "        :param max_page: 抓取最大頁數\n",
        "        :param shop: 賣場類別 (全部、24h購物、24h書店、廠商出貨、PChome旅遊)\n",
        "        :param sort: 商品排序 (有貨優先、精準度、價錢由高至低、價錢由低至高、新上市)\n",
        "        :param price_min: 篩選\"最低價\" (需與 price_max 同時用)\n",
        "        :param price_max: 篩選\"最高價\" (需與 price_min 同時用)\n",
        "        :param is_store_pickup: 篩選\"超商取貨\"\n",
        "        :param is_ipost_pickup: 篩選\"i 郵箱取貨\"\n",
        "        :return products: 搜尋結果商品\n",
        "        \"\"\"\n",
        "        products = []\n",
        "        all_shop = {\n",
        "            '全部': 'all',\n",
        "            '24h購物': '24h',\n",
        "            '24h書店': '24b',\n",
        "            '廠商出貨': 'vdr',\n",
        "            'PChome旅遊': 'tour',\n",
        "        }\n",
        "        all_sort = {\n",
        "            '有貨優先': 'sale/dc',\n",
        "            '精準度': 'rnk/dc',\n",
        "            '價錢由高至低': 'prc/dc',\n",
        "            '價錢由低至高': 'prc/ac',\n",
        "            '新上市': 'new/dc',\n",
        "        }\n",
        "\n",
        "        url = f'https://ecshweb.pchome.com.tw/search/v3.3/{all_shop[shop]}/results'\n",
        "        params = {\n",
        "            'q': keyword,\n",
        "            'sort': all_sort[sort],\n",
        "            'page': 0\n",
        "        }\n",
        "        if price_min >= 0 and price_max >= 0:\n",
        "            params['price'] = f'{price_min}-{price_max}'\n",
        "        if is_store_pickup:\n",
        "            params['cvs'] = 'all'   # 超商取貨\n",
        "        if is_ipost_pickup:\n",
        "            params['ipost'] = 'Y'   # i 郵箱取貨\n",
        "\n",
        "        while params['page'] < max_page:\n",
        "            params['page'] += 1\n",
        "            data = self.request_get(url, params)\n",
        "            if not data:\n",
        "                print(f'請求發生錯誤：{url}{params}')\n",
        "                break\n",
        "            if data['totalRows'] <= 0:\n",
        "                print('找不到有關的產品')\n",
        "                break\n",
        "            products.extend(data['prods'])\n",
        "            if data['totalPage'] <= params['page']:\n",
        "                break\n",
        "        return products\n",
        "\n",
        "    def get_products_sale_status(self, products_id):\n",
        "        \"\"\"取得商品販售狀態\n",
        "\n",
        "        :param products_id: 商品 ID\n",
        "        :return data: 商品販售狀態資料\n",
        "        \"\"\"\n",
        "        if type(products_id) == list:\n",
        "            products_id = ','.join(products_id)\n",
        "        url = f'https://ecapi.pchome.com.tw/ecshop/prodapi/v2/prod/button&id={products_id}'\n",
        "        data = self.request_get(url)\n",
        "        if not data:\n",
        "            print(f'請求發生錯誤：{url}')\n",
        "            return []\n",
        "        return data\n",
        "    def get_products_specification(self, products_id):\n",
        "        \"\"\"取得商品規格種類\n",
        "\n",
        "        :param products_id: 商品 ID\n",
        "        :return data: 商品規格種類\n",
        "        \"\"\"\n",
        "        if type(products_id) == list:\n",
        "            products_id = ','.join(products_id)\n",
        "        url = f'https://ecapi.pchome.com.tw/ecshop/prodapi/v2/prod/spec&id={products_id}&_callback=jsonpcb_spec'\n",
        "        data = self.request_get(url, to_json=False)\n",
        "        # 去除前後 JS 語法字串\n",
        "        data = json.loads(data[17:-48])\n",
        "        return data\n",
        "\n",
        "    def get_search_category(self, keyword):\n",
        "        \"\"\"取得搜尋商品分類(網頁左側)\n",
        "\n",
        "        :param keyword: 搜尋關鍵字\n",
        "        :return data: 分類資料\n",
        "        \"\"\"\n",
        "        url = f'https://ecshweb.pchome.com.tw/search/v3.3/all/categories?q={keyword}'\n",
        "        data = self.request_get(url)\n",
        "        return data\n",
        "\n",
        "    def get_search_categories_name(self, categories_id):\n",
        "        \"\"\"取得商品子分類的名稱(網頁左側)\n",
        "\n",
        "        :param categories_id: 分類 ID\n",
        "        :return data: 子分類名稱資料\n",
        "        \"\"\"\n",
        "        if type(categories_id) == list:\n",
        "            categories_id = ','.join(categories_id)\n",
        "        url = f'https://ecapi-pchome.cdn.hinet.net/cdn/ecshop/cateapi/v1.5/store&id={categories_id}&fields=Id,Name'\n",
        "        data = self.request_get(url)\n",
        "        return data"
      ]
    },
    {
      "cell_type": "code",
      "execution_count": 3,
      "metadata": {
        "colab": {
          "base_uri": "https://localhost:8080/"
        },
        "id": "WI_IhbSku1a_",
        "outputId": "897d018d-a89c-44e7-c537-6b4a14ac434f"
      },
      "outputs": [
        {
          "name": "stdout",
          "output_type": "stream",
          "text": [
            "https://ecshweb.pchome.com.tw/search/v3.3/all/results?q=%E7%AD%86%E9%9B%BB&sort=prc%2Fdc&page=1\n",
            "https://ecshweb.pchome.com.tw/search/v3.3/all/results?q=%E7%AD%86%E9%9B%BB&sort=prc%2Fdc&page=2\n",
            "https://ecshweb.pchome.com.tw/search/v3.3/all/results?q=%E7%AD%86%E9%9B%BB&sort=prc%2Fdc&page=3\n",
            "https://ecshweb.pchome.com.tw/search/v3.3/all/results?q=%E7%AD%86%E9%9B%BB&sort=prc%2Fdc&page=4\n",
            "https://ecshweb.pchome.com.tw/search/v3.3/all/results?q=%E7%AD%86%E9%9B%BB&sort=prc%2Fdc&page=5\n",
            "https://ecshweb.pchome.com.tw/search/v3.3/all/results?q=%E7%AD%86%E9%9B%BB&sort=prc%2Fdc&page=6\n",
            "https://ecshweb.pchome.com.tw/search/v3.3/all/results?q=%E7%AD%86%E9%9B%BB&sort=prc%2Fdc&page=7\n",
            "https://ecshweb.pchome.com.tw/search/v3.3/all/results?q=%E7%AD%86%E9%9B%BB&sort=prc%2Fdc&page=8\n",
            "https://ecshweb.pchome.com.tw/search/v3.3/all/results?q=%E7%AD%86%E9%9B%BB&sort=prc%2Fdc&page=9\n",
            "https://ecshweb.pchome.com.tw/search/v3.3/all/results?q=%E7%AD%86%E9%9B%BB&sort=prc%2Fdc&page=10\n",
            "https://ecapi.pchome.com.tw/ecshop/prodapi/v2/prod/button&id=DHACBN-A900G5TI6\n",
            "網頁載入發生問題：https://ecapi.pchome.com.tw/ecshop/prodapi/v2/prod/button&id=DHACBN-A900G5TI6\n",
            "Expecting value: line 1 column 1 (char 0)\n",
            "請求發生錯誤：https://ecapi.pchome.com.tw/ecshop/prodapi/v2/prod/button&id=DHACBN-A900G5TI6\n",
            "https://ecapi.pchome.com.tw/ecshop/prodapi/v2/prod/button&id=DHAFQZ-1900GZ708\n",
            "網頁載入發生問題：https://ecapi.pchome.com.tw/ecshop/prodapi/v2/prod/button&id=DHAFQZ-1900GZ708\n",
            "Expecting value: line 1 column 1 (char 0)\n",
            "請求發生錯誤：https://ecapi.pchome.com.tw/ecshop/prodapi/v2/prod/button&id=DHAFQZ-1900GZ708\n",
            "https://ecapi.pchome.com.tw/ecshop/prodapi/v2/prod/button&id=DHABGU-A900GLA6R\n",
            "網頁載入發生問題：https://ecapi.pchome.com.tw/ecshop/prodapi/v2/prod/button&id=DHABGU-A900GLA6R\n",
            "Expecting value: line 1 column 1 (char 0)\n",
            "請求發生錯誤：https://ecapi.pchome.com.tw/ecshop/prodapi/v2/prod/button&id=DHABGU-A900GLA6R\n",
            "https://ecapi.pchome.com.tw/ecshop/prodapi/v2/prod/button&id=DHACCR-A900GKB61\n",
            "網頁載入發生問題：https://ecapi.pchome.com.tw/ecshop/prodapi/v2/prod/button&id=DHACCR-A900GKB61\n",
            "Expecting value: line 1 column 1 (char 0)\n",
            "請求發生錯誤：https://ecapi.pchome.com.tw/ecshop/prodapi/v2/prod/button&id=DHACCR-A900GKB61\n",
            "https://ecapi.pchome.com.tw/ecshop/prodapi/v2/prod/button&id=DHAV5T-1900GZA4P\n",
            "網頁載入發生問題：https://ecapi.pchome.com.tw/ecshop/prodapi/v2/prod/button&id=DHAV5T-1900GZA4P\n",
            "Expecting value: line 1 column 1 (char 0)\n",
            "請求發生錯誤：https://ecapi.pchome.com.tw/ecshop/prodapi/v2/prod/button&id=DHAV5T-1900GZA4P\n",
            "https://ecapi.pchome.com.tw/ecshop/prodapi/v2/prod/button&id=DHBA55-1900GZ9WG\n",
            "網頁載入發生問題：https://ecapi.pchome.com.tw/ecshop/prodapi/v2/prod/button&id=DHBA55-1900GZ9WG\n",
            "Expecting value: line 1 column 1 (char 0)\n",
            "請求發生錯誤：https://ecapi.pchome.com.tw/ecshop/prodapi/v2/prod/button&id=DHBA55-1900GZ9WG\n",
            "https://ecapi.pchome.com.tw/ecshop/prodapi/v2/prod/button&id=DHABBX-A900GIFH5\n",
            "網頁載入發生問題：https://ecapi.pchome.com.tw/ecshop/prodapi/v2/prod/button&id=DHABBX-A900GIFH5\n",
            "Expecting value: line 1 column 1 (char 0)\n",
            "請求發生錯誤：https://ecapi.pchome.com.tw/ecshop/prodapi/v2/prod/button&id=DHABBX-A900GIFH5\n",
            "https://ecapi.pchome.com.tw/ecshop/prodapi/v2/prod/button&id=DSBC03-A900GIILI\n",
            "網頁載入發生問題：https://ecapi.pchome.com.tw/ecshop/prodapi/v2/prod/button&id=DSBC03-A900GIILI\n",
            "Expecting value: line 1 column 1 (char 0)\n",
            "請求發生錯誤：https://ecapi.pchome.com.tw/ecshop/prodapi/v2/prod/button&id=DSBC03-A900GIILI\n",
            "https://ecapi.pchome.com.tw/ecshop/prodapi/v2/prod/button&id=DHABGU-A900GYJUL\n",
            "網頁載入發生問題：https://ecapi.pchome.com.tw/ecshop/prodapi/v2/prod/button&id=DHABGU-A900GYJUL\n",
            "Expecting value: line 1 column 1 (char 0)\n",
            "請求發生錯誤：https://ecapi.pchome.com.tw/ecshop/prodapi/v2/prod/button&id=DHABGU-A900GYJUL\n",
            "https://ecapi.pchome.com.tw/ecshop/prodapi/v2/prod/button&id=DHABGU-A900GPMDY\n",
            "網頁載入發生問題：https://ecapi.pchome.com.tw/ecshop/prodapi/v2/prod/button&id=DHABGU-A900GPMDY\n",
            "Expecting value: line 1 column 1 (char 0)\n",
            "請求發生錯誤：https://ecapi.pchome.com.tw/ecshop/prodapi/v2/prod/button&id=DHABGU-A900GPMDY\n"
          ]
        },
        {
          "data": {
            "text/html": [
              "<div>\n",
              "<style scoped>\n",
              "    .dataframe tbody tr th:only-of-type {\n",
              "        vertical-align: middle;\n",
              "    }\n",
              "\n",
              "    .dataframe tbody tr th {\n",
              "        vertical-align: top;\n",
              "    }\n",
              "\n",
              "    .dataframe thead th {\n",
              "        text-align: right;\n",
              "    }\n",
              "</style>\n",
              "<table border=\"1\" class=\"dataframe\">\n",
              "  <thead>\n",
              "    <tr style=\"text-align: right;\">\n",
              "      <th></th>\n",
              "      <th>Name</th>\n",
              "      <th>Price</th>\n",
              "      <th>ButtonType</th>\n",
              "      <th>URL</th>\n",
              "    </tr>\n",
              "  </thead>\n",
              "  <tbody>\n",
              "  </tbody>\n",
              "</table>\n",
              "</div>"
            ],
            "text/plain": [
              "Empty DataFrame\n",
              "Columns: [Name, Price, ButtonType, URL]\n",
              "Index: []"
            ]
          },
          "execution_count": 3,
          "metadata": {},
          "output_type": "execute_result"
        }
      ],
      "source": [
        "if __name__ == '__main__':\n",
        "    pchome_spider = PchomeSpider()\n",
        "    products = pchome_spider.search_products(keyword='筆電', max_page=10, sort='價錢由高至低')\n",
        "result = pd.DataFrame(columns=['Name', 'Price', 'ButtonType', 'URL'])\n",
        "for product in products[0:10]:\n",
        "    product_id = product['Id']\n",
        "    products_sale_status = pchome_spider.get_products_sale_status(product_id)\n",
        "    for products_sale_statu in products_sale_status:\n",
        "        result = result.append({\n",
        "            'Name': product['name'],\n",
        "            'Price': product['price'],\n",
        "            'ButtonType': products_sale_statu.get('ButtonType', ''),\n",
        "            'Describe': product['describe'],\n",
        "            'URL': f\"https://24h.pchome.com.tw/prod/{product['Id']}\"\n",
        "        }, ignore_index=True)\n",
        "result"
      ]
    },
    {
      "cell_type": "code",
      "execution_count": null,
      "metadata": {
        "id": "08-jxKXA2JKW"
      },
      "outputs": [],
      "source": [
        "result.to_excel('product_crawling3.xlsx', index=False)"
      ]
    }
  ],
  "metadata": {
    "colab": {
      "provenance": []
    },
    "kernelspec": {
      "display_name": "Python 3",
      "name": "python3"
    },
    "language_info": {
      "codemirror_mode": {
        "name": "ipython",
        "version": 3
      },
      "file_extension": ".py",
      "mimetype": "text/x-python",
      "name": "python",
      "nbconvert_exporter": "python",
      "pygments_lexer": "ipython3",
      "version": "3.11.5"
    }
  },
  "nbformat": 4,
  "nbformat_minor": 0
}
