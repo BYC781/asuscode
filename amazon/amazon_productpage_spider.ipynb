{
 "cells": [
  {
   "cell_type": "code",
   "execution_count": 1,
   "metadata": {},
   "outputs": [],
   "source": [
    "from selenium import webdriver\n",
    "from selenium.webdriver.common.by import By\n",
    "import time\n",
    "from random import randint\n",
    "import pandas as pd\n",
    "from AmazonSpider import AmazonSpider, AmazonReviewSpider\n",
    "from datetime import datetime"
   ]
  },
  {
   "cell_type": "code",
   "execution_count": 2,
   "metadata": {},
   "outputs": [],
   "source": [
    "dell_spider = AmazonSpider()"
   ]
  },
  {
   "cell_type": "code",
   "execution_count": 3,
   "metadata": {},
   "outputs": [],
   "source": [
    "dell_spider.initialize_df()"
   ]
  },
  {
   "cell_type": "code",
   "execution_count": 4,
   "metadata": {},
   "outputs": [],
   "source": [
    "dell_spider.collect_product_page('Dell OptiPlex 7000', pages=1)"
   ]
  },
  {
   "cell_type": "code",
   "execution_count": 5,
   "metadata": {},
   "outputs": [
    {
     "name": "stdout",
     "output_type": "stream",
     "text": [
      "第 0 個商品\n",
      "第 1 個商品\n",
      "第 2 個商品\n",
      "第 3 個商品\n",
      "第 4 個商品\n",
      "第 5 個商品\n",
      "第 6 個商品\n"
     ]
    },
    {
     "ename": "KeyboardInterrupt",
     "evalue": "",
     "output_type": "error",
     "traceback": [
      "\u001b[1;31m---------------------------------------------------------------------------\u001b[0m",
      "\u001b[1;31mKeyboardInterrupt\u001b[0m                         Traceback (most recent call last)",
      "Cell \u001b[1;32mIn[5], line 1\u001b[0m\n\u001b[1;32m----> 1\u001b[0m dell_spider\u001b[39m.\u001b[39;49minit_process()\n",
      "File \u001b[1;32mc:\\Users\\ElvisBY_Chen\\OneDrive - ASUS\\Documents\\asuscode\\amazon\\AmazonSpider.py:55\u001b[0m, in \u001b[0;36mAmazonSpider.init_process\u001b[1;34m(self)\u001b[0m\n\u001b[0;32m     53\u001b[0m \u001b[39mdef\u001b[39;00m \u001b[39minit_process\u001b[39m(\u001b[39mself\u001b[39m):\n\u001b[0;32m     54\u001b[0m     \u001b[39mself\u001b[39m\u001b[39m.\u001b[39mstart \u001b[39m=\u001b[39m \u001b[39m0\u001b[39m\n\u001b[1;32m---> 55\u001b[0m     \u001b[39mself\u001b[39;49m\u001b[39m.\u001b[39;49mprocess()\n",
      "File \u001b[1;32mc:\\Users\\ElvisBY_Chen\\OneDrive - ASUS\\Documents\\asuscode\\amazon\\AmazonSpider.py:67\u001b[0m, in \u001b[0;36mAmazonSpider.process\u001b[1;34m(self)\u001b[0m\n\u001b[0;32m     65\u001b[0m \u001b[39m# 去到你想要的網頁\u001b[39;00m\n\u001b[0;32m     66\u001b[0m \u001b[39mself\u001b[39m\u001b[39m.\u001b[39mdriver\u001b[39m.\u001b[39mget(\u001b[39mself\u001b[39m\u001b[39m.\u001b[39mtheurl[page])\n\u001b[1;32m---> 67\u001b[0m time\u001b[39m.\u001b[39;49msleep(randint(\u001b[39m2\u001b[39;49m, \u001b[39m5\u001b[39;49m))\n\u001b[0;32m     69\u001b[0m \u001b[39m# 品牌名稱\u001b[39;00m\n\u001b[0;32m     70\u001b[0m \u001b[39mif\u001b[39;00m \u001b[39mlen\u001b[39m(\u001b[39mself\u001b[39m\u001b[39m.\u001b[39mdriver\u001b[39m.\u001b[39mfind_elements(By\u001b[39m.\u001b[39mID, \u001b[39m'\u001b[39m\u001b[39mbylineInfo\u001b[39m\u001b[39m'\u001b[39m)) \u001b[39m==\u001b[39m \u001b[39m0\u001b[39m :\n",
      "\u001b[1;31mKeyboardInterrupt\u001b[0m: "
     ]
    }
   ],
   "source": [
    "dell_spider.init_process()"
   ]
  },
  {
   "cell_type": "code",
   "execution_count": null,
   "metadata": {},
   "outputs": [],
   "source": [
    "dell_spider.df"
   ]
  },
  {
   "cell_type": "code",
   "execution_count": 8,
   "metadata": {},
   "outputs": [],
   "source": [
    "dell_spider.df.to_csv('amazon_product_page_dell.csv')"
   ]
  },
  {
   "cell_type": "code",
   "execution_count": 9,
   "metadata": {},
   "outputs": [],
   "source": [
    "dell_rr_spider = AmazonReviewSpider(pd.read_csv('amazon_product_page_dell.csv'))"
   ]
  },
  {
   "cell_type": "code",
   "execution_count": 12,
   "metadata": {},
   "outputs": [
    {
     "name": "stdout",
     "output_type": "stream",
     "text": [
      "現在處理第 0 件商品\n",
      "https://www.amazon.com/-/zh_TW/OptiPlex-7080-%E8%BF%B7%E4%BD%A0%E5%95%86%E5%8B%99%E6%A1%8C%E4%B8%8A%E5%9E%8B%E9%9B%BB%E8%85%A6-i5-10500T-DisplayPort/product-reviews/B0BWQ1PXL3/ref=cm_cr_dp_d_show_all_btm?ie=UTF8&reviewerType=all_reviews&pageNumber=1\n"
     ]
    },
    {
     "ename": "AttributeError",
     "evalue": "module 'datetime' has no attribute 'strptime'",
     "output_type": "error",
     "traceback": [
      "\u001b[1;31m---------------------------------------------------------------------------\u001b[0m",
      "\u001b[1;31mAttributeError\u001b[0m                            Traceback (most recent call last)",
      "Cell \u001b[1;32mIn[12], line 1\u001b[0m\n\u001b[1;32m----> 1\u001b[0m dell_rr_spider\u001b[39m.\u001b[39;49minit_process()\n",
      "File \u001b[1;32mc:\\Users\\ElvisBY_Chen\\OneDrive - ASUS\\Documents\\Python Scripts\\AmazonSpider.py:178\u001b[0m, in \u001b[0;36mAmazonReviewSpider.init_process\u001b[1;34m(self)\u001b[0m\n\u001b[0;32m    176\u001b[0m \u001b[39mself\u001b[39m\u001b[39m.\u001b[39mstart \u001b[39m=\u001b[39m \u001b[39m0\u001b[39m\n\u001b[0;32m    177\u001b[0m \u001b[39mself\u001b[39m\u001b[39m.\u001b[39mrowcnt \u001b[39m=\u001b[39m \u001b[39m0\u001b[39m\n\u001b[1;32m--> 178\u001b[0m \u001b[39mself\u001b[39;49m\u001b[39m.\u001b[39;49mprocess()\n\u001b[0;32m    179\u001b[0m \u001b[39mself\u001b[39m\u001b[39m.\u001b[39mdataframe_list\u001b[39m.\u001b[39mappend(\u001b[39mself\u001b[39m\u001b[39m.\u001b[39mdf)\n",
      "File \u001b[1;32mc:\\Users\\ElvisBY_Chen\\OneDrive - ASUS\\Documents\\Python Scripts\\AmazonSpider.py:251\u001b[0m, in \u001b[0;36mAmazonReviewSpider.process\u001b[1;34m(self)\u001b[0m\n\u001b[0;32m    249\u001b[0m         gettime_list \u001b[39m=\u001b[39m gettime\u001b[39m.\u001b[39msplit(\u001b[39m'\u001b[39m\u001b[39m在\u001b[39m\u001b[39m'\u001b[39m)\n\u001b[0;32m    250\u001b[0m         cuttime \u001b[39m=\u001b[39m gettime_list[\u001b[39m0\u001b[39m]\u001b[39m.\u001b[39mreplace(\u001b[39m'\u001b[39m\u001b[39m \u001b[39m\u001b[39m'\u001b[39m,\u001b[39m'\u001b[39m\u001b[39m'\u001b[39m)\n\u001b[1;32m--> 251\u001b[0m         \u001b[39mself\u001b[39m\u001b[39m.\u001b[39mdf\u001b[39m.\u001b[39mloc[\u001b[39mself\u001b[39m\u001b[39m.\u001b[39mrowcnt, \u001b[39m'\u001b[39m\u001b[39mthetime\u001b[39m\u001b[39m'\u001b[39m] \u001b[39m=\u001b[39m (datetime\u001b[39m.\u001b[39;49mstrptime(cuttime, \u001b[39m\"\u001b[39m\u001b[39m%\u001b[39m\u001b[39mY年\u001b[39m\u001b[39m%\u001b[39m\u001b[39mm月\u001b[39m\u001b[39m%d\u001b[39;00m\u001b[39m日\u001b[39m\u001b[39m\"\u001b[39m)) \u001b[39m# 儲存留言時間\u001b[39;00m\n\u001b[0;32m    252\u001b[0m         \u001b[39mself\u001b[39m\u001b[39m.\u001b[39mdf\u001b[39m.\u001b[39mloc[\u001b[39mself\u001b[39m\u001b[39m.\u001b[39mrowcnt, \u001b[39m'\u001b[39m\u001b[39mlocation\u001b[39m\u001b[39m'\u001b[39m] \u001b[39m=\u001b[39m (gettime_list[\u001b[39m1\u001b[39m]\u001b[39m.\u001b[39mreplace(\u001b[39m'\u001b[39m\u001b[39m評論\u001b[39m\u001b[39m'\u001b[39m,\u001b[39m'\u001b[39m\u001b[39m'\u001b[39m)) \u001b[39m# 儲存留言地點\u001b[39;00m\n\u001b[0;32m    254\u001b[0m \u001b[39m# 處理覺得留言有用人數\u001b[39;00m\n",
      "\u001b[1;31mAttributeError\u001b[0m: module 'datetime' has no attribute 'strptime'"
     ]
    }
   ],
   "source": [
    "dell_rr_spider.init_process()"
   ]
  },
  {
   "cell_type": "code",
   "execution_count": null,
   "metadata": {},
   "outputs": [],
   "source": [
    "dell_rr_spider.concat_dfs().to_csv('amazon_rr_dell.csv')"
   ]
  }
 ],
 "metadata": {
  "kernelspec": {
   "display_name": "Python 3",
   "language": "python",
   "name": "python3"
  },
  "language_info": {
   "codemirror_mode": {
    "name": "ipython",
    "version": 3
   },
   "file_extension": ".py",
   "mimetype": "text/x-python",
   "name": "python",
   "nbconvert_exporter": "python",
   "pygments_lexer": "ipython3",
   "version": "3.11.5"
  },
  "orig_nbformat": 4
 },
 "nbformat": 4,
 "nbformat_minor": 2
}
