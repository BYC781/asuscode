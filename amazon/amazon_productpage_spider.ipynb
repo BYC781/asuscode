{
 "cells": [
  {
   "cell_type": "code",
   "execution_count": 11,
   "metadata": {},
   "outputs": [],
   "source": [
    "from selenium import webdriver\n",
    "from selenium.webdriver.common.by import By\n",
    "import time\n",
    "from random import randint\n",
    "import pandas as pd\n",
    "from AmazonSpider import AmazonSpider, AmazonReviewSpider\n",
    "from datetime import datetime"
   ]
  },
  {
   "cell_type": "code",
   "execution_count": 4,
   "metadata": {},
   "outputs": [],
   "source": [
    "dell_spider = AmazonSpider()"
   ]
  },
  {
   "cell_type": "code",
   "execution_count": 5,
   "metadata": {},
   "outputs": [],
   "source": [
    "dell_spider.initialize_df()"
   ]
  },
  {
   "cell_type": "code",
   "execution_count": 6,
   "metadata": {},
   "outputs": [],
   "source": [
    "dell_spider.collect_product_page('Dell OptiPlex 7000', pages=5)"
   ]
  },
  {
   "cell_type": "code",
   "execution_count": 7,
   "metadata": {},
   "outputs": [
    {
     "name": "stdout",
     "output_type": "stream",
     "text": [
      "第 0 個商品\n",
      "第 1 個商品\n",
      "第 2 個商品\n",
      "第 3 個商品\n",
      "第 4 個商品\n",
      "第 5 個商品\n",
      "第 6 個商品\n",
      "第 7 個商品\n",
      "第 8 個商品\n",
      "第 9 個商品\n",
      "第 10 個商品\n",
      "第 11 個商品\n",
      "第 12 個商品\n",
      "第 13 個商品\n",
      "第 14 個商品\n",
      "第 15 個商品\n",
      "第 16 個商品\n",
      "第 17 個商品\n",
      "第 18 個商品\n",
      "第 19 個商品\n",
      "第 20 個商品\n",
      "第 21 個商品\n",
      "第 22 個商品\n",
      "第 23 個商品\n",
      "第 24 個商品\n",
      "第 25 個商品\n",
      "第 26 個商品\n",
      "第 27 個商品\n",
      "第 28 個商品\n",
      "第 29 個商品\n",
      "第 30 個商品\n",
      "第 31 個商品\n",
      "第 32 個商品\n",
      "第 33 個商品\n",
      "第 34 個商品\n",
      "第 35 個商品\n",
      "第 36 個商品\n",
      "第 37 個商品\n",
      "第 38 個商品\n",
      "第 39 個商品\n",
      "第 40 個商品\n",
      "第 41 個商品\n",
      "第 42 個商品\n",
      "第 43 個商品\n",
      "第 44 個商品\n",
      "第 45 個商品\n",
      "第 46 個商品\n",
      "第 47 個商品\n",
      "第 48 個商品\n",
      "第 49 個商品\n",
      "第 50 個商品\n",
      "第 51 個商品\n",
      "第 52 個商品\n",
      "第 53 個商品\n",
      "第 54 個商品\n",
      "第 55 個商品\n",
      "第 56 個商品\n",
      "第 57 個商品\n",
      "第 58 個商品\n",
      "第 59 個商品\n",
      "第 60 個商品\n",
      "第 61 個商品\n",
      "第 62 個商品\n",
      "第 63 個商品\n",
      "第 64 個商品\n",
      "第 65 個商品\n",
      "第 66 個商品\n",
      "第 67 個商品\n",
      "第 68 個商品\n",
      "第 69 個商品\n",
      "第 70 個商品\n",
      "第 71 個商品\n",
      "第 72 個商品\n",
      "第 73 個商品\n",
      "第 74 個商品\n",
      "第 75 個商品\n",
      "第 76 個商品\n",
      "第 77 個商品\n",
      "第 78 個商品\n",
      "第 79 個商品\n",
      "第 80 個商品\n",
      "第 81 個商品\n",
      "第 82 個商品\n",
      "第 83 個商品\n",
      "第 84 個商品\n",
      "第 85 個商品\n",
      "第 86 個商品\n",
      "第 87 個商品\n",
      "第 88 個商品\n",
      "第 89 個商品\n",
      "第 90 個商品\n",
      "第 91 個商品\n",
      "第 92 個商品\n",
      "第 93 個商品\n",
      "第 94 個商品\n",
      "第 95 個商品\n",
      "第 96 個商品\n",
      "第 97 個商品\n",
      "第 98 個商品\n",
      "第 99 個商品\n",
      "第 100 個商品\n",
      "第 101 個商品\n",
      "第 102 個商品\n",
      "第 103 個商品\n",
      "第 104 個商品\n",
      "第 105 個商品\n",
      "第 106 個商品\n",
      "第 107 個商品\n",
      "第 108 個商品\n",
      "第 109 個商品\n",
      "第 110 個商品\n",
      "第 111 個商品\n",
      "第 112 個商品\n",
      "第 113 個商品\n",
      "第 114 個商品\n",
      "第 115 個商品\n",
      "第 116 個商品\n",
      "第 117 個商品\n",
      "第 118 個商品\n",
      "第 119 個商品\n",
      "第 120 個商品\n",
      "第 121 個商品\n",
      "第 122 個商品\n",
      "第 123 個商品\n",
      "第 124 個商品\n",
      "第 125 個商品\n",
      "第 126 個商品\n",
      "第 127 個商品\n",
      "第 128 個商品\n",
      "第 129 個商品\n",
      "第 130 個商品\n",
      "第 131 個商品\n",
      "第 132 個商品\n",
      "第 133 個商品\n",
      "第 134 個商品\n",
      "第 135 個商品\n",
      "第 136 個商品\n"
     ]
    }
   ],
   "source": [
    "dell_spider.init_process()"
   ]
  },
  {
   "cell_type": "code",
   "execution_count": 8,
   "metadata": {},
   "outputs": [],
   "source": [
    "dell_spider.df.to_csv('amazon_product_page_dell.csv')"
   ]
  },
  {
   "cell_type": "code",
   "execution_count": 9,
   "metadata": {},
   "outputs": [],
   "source": [
    "dell_rr_spider = AmazonReviewSpider(pd.read_csv('amazon_product_page_dell.csv'))"
   ]
  },
  {
   "cell_type": "code",
   "execution_count": 12,
   "metadata": {},
   "outputs": [
    {
     "name": "stdout",
     "output_type": "stream",
     "text": [
      "現在處理第 0 件商品\n",
      "https://www.amazon.com/-/zh_TW/OptiPlex-7080-%E8%BF%B7%E4%BD%A0%E5%95%86%E5%8B%99%E6%A1%8C%E4%B8%8A%E5%9E%8B%E9%9B%BB%E8%85%A6-i5-10500T-DisplayPort/product-reviews/B0BWQ1PXL3/ref=cm_cr_dp_d_show_all_btm?ie=UTF8&reviewerType=all_reviews&pageNumber=1\n"
     ]
    },
    {
     "ename": "AttributeError",
     "evalue": "module 'datetime' has no attribute 'strptime'",
     "output_type": "error",
     "traceback": [
      "\u001b[1;31m---------------------------------------------------------------------------\u001b[0m",
      "\u001b[1;31mAttributeError\u001b[0m                            Traceback (most recent call last)",
      "Cell \u001b[1;32mIn[12], line 1\u001b[0m\n\u001b[1;32m----> 1\u001b[0m dell_rr_spider\u001b[39m.\u001b[39;49minit_process()\n",
      "File \u001b[1;32mc:\\Users\\ElvisBY_Chen\\OneDrive - ASUS\\Documents\\Python Scripts\\AmazonSpider.py:178\u001b[0m, in \u001b[0;36mAmazonReviewSpider.init_process\u001b[1;34m(self)\u001b[0m\n\u001b[0;32m    176\u001b[0m \u001b[39mself\u001b[39m\u001b[39m.\u001b[39mstart \u001b[39m=\u001b[39m \u001b[39m0\u001b[39m\n\u001b[0;32m    177\u001b[0m \u001b[39mself\u001b[39m\u001b[39m.\u001b[39mrowcnt \u001b[39m=\u001b[39m \u001b[39m0\u001b[39m\n\u001b[1;32m--> 178\u001b[0m \u001b[39mself\u001b[39;49m\u001b[39m.\u001b[39;49mprocess()\n\u001b[0;32m    179\u001b[0m \u001b[39mself\u001b[39m\u001b[39m.\u001b[39mdataframe_list\u001b[39m.\u001b[39mappend(\u001b[39mself\u001b[39m\u001b[39m.\u001b[39mdf)\n",
      "File \u001b[1;32mc:\\Users\\ElvisBY_Chen\\OneDrive - ASUS\\Documents\\Python Scripts\\AmazonSpider.py:251\u001b[0m, in \u001b[0;36mAmazonReviewSpider.process\u001b[1;34m(self)\u001b[0m\n\u001b[0;32m    249\u001b[0m         gettime_list \u001b[39m=\u001b[39m gettime\u001b[39m.\u001b[39msplit(\u001b[39m'\u001b[39m\u001b[39m在\u001b[39m\u001b[39m'\u001b[39m)\n\u001b[0;32m    250\u001b[0m         cuttime \u001b[39m=\u001b[39m gettime_list[\u001b[39m0\u001b[39m]\u001b[39m.\u001b[39mreplace(\u001b[39m'\u001b[39m\u001b[39m \u001b[39m\u001b[39m'\u001b[39m,\u001b[39m'\u001b[39m\u001b[39m'\u001b[39m)\n\u001b[1;32m--> 251\u001b[0m         \u001b[39mself\u001b[39m\u001b[39m.\u001b[39mdf\u001b[39m.\u001b[39mloc[\u001b[39mself\u001b[39m\u001b[39m.\u001b[39mrowcnt, \u001b[39m'\u001b[39m\u001b[39mthetime\u001b[39m\u001b[39m'\u001b[39m] \u001b[39m=\u001b[39m (datetime\u001b[39m.\u001b[39;49mstrptime(cuttime, \u001b[39m\"\u001b[39m\u001b[39m%\u001b[39m\u001b[39mY年\u001b[39m\u001b[39m%\u001b[39m\u001b[39mm月\u001b[39m\u001b[39m%d\u001b[39;00m\u001b[39m日\u001b[39m\u001b[39m\"\u001b[39m)) \u001b[39m# 儲存留言時間\u001b[39;00m\n\u001b[0;32m    252\u001b[0m         \u001b[39mself\u001b[39m\u001b[39m.\u001b[39mdf\u001b[39m.\u001b[39mloc[\u001b[39mself\u001b[39m\u001b[39m.\u001b[39mrowcnt, \u001b[39m'\u001b[39m\u001b[39mlocation\u001b[39m\u001b[39m'\u001b[39m] \u001b[39m=\u001b[39m (gettime_list[\u001b[39m1\u001b[39m]\u001b[39m.\u001b[39mreplace(\u001b[39m'\u001b[39m\u001b[39m評論\u001b[39m\u001b[39m'\u001b[39m,\u001b[39m'\u001b[39m\u001b[39m'\u001b[39m)) \u001b[39m# 儲存留言地點\u001b[39;00m\n\u001b[0;32m    254\u001b[0m \u001b[39m# 處理覺得留言有用人數\u001b[39;00m\n",
      "\u001b[1;31mAttributeError\u001b[0m: module 'datetime' has no attribute 'strptime'"
     ]
    }
   ],
   "source": [
    "dell_rr_spider.init_process()"
   ]
  },
  {
   "cell_type": "code",
   "execution_count": null,
   "metadata": {},
   "outputs": [],
   "source": [
    "dell_rr_spider.concat_dfs().to_csv('amazon_rr_dell.csv')"
   ]
  }
 ],
 "metadata": {
  "kernelspec": {
   "display_name": "Python 3",
   "language": "python",
   "name": "python3"
  },
  "language_info": {
   "codemirror_mode": {
    "name": "ipython",
    "version": 3
   },
   "file_extension": ".py",
   "mimetype": "text/x-python",
   "name": "python",
   "nbconvert_exporter": "python",
   "pygments_lexer": "ipython3",
   "version": "3.11.5"
  },
  "orig_nbformat": 4
 },
 "nbformat": 4,
 "nbformat_minor": 2
}
