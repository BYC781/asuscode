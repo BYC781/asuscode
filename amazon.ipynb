{
 "cells": [
  {
   "cell_type": "code",
   "execution_count": 1,
   "metadata": {},
   "outputs": [],
   "source": [
    "from selenium import webdriver\n",
    "from selenium.webdriver.support.wait import WebDriverWait\n",
    "from selenium.webdriver.support import expected_conditions as EC\n",
    "from selenium.webdriver.common.by import By\n",
    "from selenium.webdriver.common.keys import Keys\n",
    "from bs4 import BeautifulSoup as Soup"
   ]
  },
  {
   "cell_type": "code",
   "execution_count": 2,
   "metadata": {},
   "outputs": [],
   "source": [
    "driver = webdriver.Edge()\n",
    "driver.implicitly_wait(30)"
   ]
  },
  {
   "cell_type": "code",
   "execution_count": 34,
   "metadata": {},
   "outputs": [],
   "source": [
    "driver.get('https://www.amazon.com/')\n",
    "search_key = 'dell'\n",
    "# 設定產品類別 electronic﹑品牌 Dell、價格區間 200以上\n",
    "search_url = 'https://www.amazon.com/s?k=dell&i=electronics&rh=n%3A172282%2Cp_89%3ADell%2Cp_36%3A1253507011&dc&page=1'\n",
    "base_url = 'https://www.amazon.com/s?k='+ search_key+ '&i=electronics&rh=n%3A172282%2Cp_89%3ADell%2Cp_36%3A1253507011&dc&page={}'\n",
    "driver.get(search_url.format(search_key))"
   ]
  },
  {
   "cell_type": "code",
   "execution_count": 35,
   "metadata": {},
   "outputs": [],
   "source": [
    "final_page_index = int(driver.find_elements(By.CLASS_NAME, 's-pagination-item.s-pagination-disabled')[1].text)"
   ]
  },
  {
   "cell_type": "code",
   "execution_count": 40,
   "metadata": {},
   "outputs": [],
   "source": [
    "prodNames = driver.find_elements(By.CLASS_NAME, 'a-size-base-plus.a-color-base.a-text-normal')"
   ]
  },
  {
   "cell_type": "code",
   "execution_count": 41,
   "metadata": {},
   "outputs": [],
   "source": [
    "prices = driver.find_elements(By.CLASS_NAME, 'a-price-whole')\n",
    "prices_frac = driver.find_elements(By.CLASS_NAME, 'a-price-fraction')\n",
    "combined_prices =[]\n",
    "for whole, frac in zip(prices, prices_frac):\n",
    "  combined_price = f\"{whole.text}.{frac.text}\"\n",
    "  combined_prices.append(combined_price)\n",
    "combined_prices = combined_prices[:len(prodNames)]"
   ]
  },
  {
   "cell_type": "code",
   "execution_count": 42,
   "metadata": {},
   "outputs": [
    {
     "name": "stdout",
     "output_type": "stream",
     "text": [
      "33 33\n"
     ]
    }
   ],
   "source": [
    "print(len(combined_prices), len(prodNames))"
   ]
  },
  {
   "cell_type": "code",
   "execution_count": 46,
   "metadata": {},
   "outputs": [
    {
     "ename": "WebDriverException",
     "evalue": "Message: disconnected: not connected to DevTools\n  (failed to check if window was closed: disconnected: not connected to DevTools)\n  (Session info: MicrosoftEdge=117.0.2045.47)\nStacktrace:\n\tGetHandleVerifier [0x00007FF7978D99B2+63682]\n\tMicrosoft::Applications::Events::ILogConfiguration::operator* [0x00007FF797861902+267730]\n\t(No symbol) [0x00007FF79761AC0E]\n\t(No symbol) [0x00007FF79760391E]\n\t(No symbol) [0x00007FF797603670]\n\t(No symbol) [0x00007FF79761CF81]\n\t(No symbol) [0x00007FF7976A6418]\n\t(No symbol) [0x00007FF79768C623]\n\t(No symbol) [0x00007FF79765DA7A]\n\t(No symbol) [0x00007FF79765CD6B]\n\t(No symbol) [0x00007FF79765E204]\n\tMicrosoft::Applications::Events::EventProperty::to_string [0x00007FF797AA5EB9+1233737]\n\t(No symbol) [0x00007FF7976DB274]\n\tMicrosoft::Applications::Events::EventProperty::~EventProperty [0x00007FF7977A329A+33498]\n\tMicrosoft::Applications::Events::EventProperty::~EventProperty [0x00007FF79779BDD9+3609]\n\tMicrosoft::Applications::Events::EventProperty::to_string [0x00007FF797AA4C54+1229028]\n\tMicrosoft::Applications::Events::ILogConfiguration::operator* [0x00007FF79786BAA8+309112]\n\tMicrosoft::Applications::Events::ILogConfiguration::operator* [0x00007FF797866784+287828]\n\tMicrosoft::Applications::Events::ILogConfiguration::operator* [0x00007FF7978668B2+288130]\n\tMicrosoft::Applications::Events::ILogConfiguration::operator* [0x00007FF797859FB1+236673]\n\tBaseThreadInitThunk [0x00007FF8D07926AD+29]\n\tRtlUserThreadStart [0x00007FF8D22AAA68+40]\n",
     "output_type": "error",
     "traceback": [
      "\u001b[1;31m---------------------------------------------------------------------------\u001b[0m",
      "\u001b[1;31mWebDriverException\u001b[0m                        Traceback (most recent call last)",
      "Cell \u001b[1;32mIn[46], line 5\u001b[0m\n\u001b[0;32m      3\u001b[0m \u001b[39mfor\u001b[39;00m page_idx \u001b[39min\u001b[39;00m \u001b[39mrange\u001b[39m(\u001b[39m1\u001b[39m, final_page_index \u001b[39m+\u001b[39m \u001b[39m1\u001b[39m):\n\u001b[0;32m      4\u001b[0m   url \u001b[39m=\u001b[39m base_url\u001b[39m.\u001b[39mformat(page_idx)\n\u001b[1;32m----> 5\u001b[0m   driver\u001b[39m.\u001b[39;49mget(url)\n\u001b[0;32m      7\u001b[0m   prodNames \u001b[39m=\u001b[39m driver\u001b[39m.\u001b[39mfind_elements(By\u001b[39m.\u001b[39mCLASS_NAME, \u001b[39m'\u001b[39m\u001b[39ma-size-medium.a-color-base.a-text-normal\u001b[39m\u001b[39m'\u001b[39m)\n\u001b[0;32m      8\u001b[0m   prices \u001b[39m=\u001b[39m driver\u001b[39m.\u001b[39mfind_elements(By\u001b[39m.\u001b[39mCLASS_NAME, \u001b[39m'\u001b[39m\u001b[39ma-price-whole\u001b[39m\u001b[39m'\u001b[39m)\n",
      "File \u001b[1;32mc:\\Users\\ElvisBY_Chen\\AppData\\Local\\Programs\\Python\\Python311\\Lib\\site-packages\\selenium\\webdriver\\remote\\webdriver.py:353\u001b[0m, in \u001b[0;36mWebDriver.get\u001b[1;34m(self, url)\u001b[0m\n\u001b[0;32m    351\u001b[0m \u001b[39mdef\u001b[39;00m \u001b[39mget\u001b[39m(\u001b[39mself\u001b[39m, url: \u001b[39mstr\u001b[39m) \u001b[39m-\u001b[39m\u001b[39m>\u001b[39m \u001b[39mNone\u001b[39;00m:\n\u001b[0;32m    352\u001b[0m \u001b[39m    \u001b[39m\u001b[39m\"\"\"Loads a web page in the current browser session.\"\"\"\u001b[39;00m\n\u001b[1;32m--> 353\u001b[0m     \u001b[39mself\u001b[39;49m\u001b[39m.\u001b[39;49mexecute(Command\u001b[39m.\u001b[39;49mGET, {\u001b[39m\"\u001b[39;49m\u001b[39murl\u001b[39;49m\u001b[39m\"\u001b[39;49m: url})\n",
      "File \u001b[1;32mc:\\Users\\ElvisBY_Chen\\AppData\\Local\\Programs\\Python\\Python311\\Lib\\site-packages\\selenium\\webdriver\\remote\\webdriver.py:344\u001b[0m, in \u001b[0;36mWebDriver.execute\u001b[1;34m(self, driver_command, params)\u001b[0m\n\u001b[0;32m    342\u001b[0m response \u001b[39m=\u001b[39m \u001b[39mself\u001b[39m\u001b[39m.\u001b[39mcommand_executor\u001b[39m.\u001b[39mexecute(driver_command, params)\n\u001b[0;32m    343\u001b[0m \u001b[39mif\u001b[39;00m response:\n\u001b[1;32m--> 344\u001b[0m     \u001b[39mself\u001b[39;49m\u001b[39m.\u001b[39;49merror_handler\u001b[39m.\u001b[39;49mcheck_response(response)\n\u001b[0;32m    345\u001b[0m     response[\u001b[39m\"\u001b[39m\u001b[39mvalue\u001b[39m\u001b[39m\"\u001b[39m] \u001b[39m=\u001b[39m \u001b[39mself\u001b[39m\u001b[39m.\u001b[39m_unwrap_value(response\u001b[39m.\u001b[39mget(\u001b[39m\"\u001b[39m\u001b[39mvalue\u001b[39m\u001b[39m\"\u001b[39m, \u001b[39mNone\u001b[39;00m))\n\u001b[0;32m    346\u001b[0m     \u001b[39mreturn\u001b[39;00m response\n",
      "File \u001b[1;32mc:\\Users\\ElvisBY_Chen\\AppData\\Local\\Programs\\Python\\Python311\\Lib\\site-packages\\selenium\\webdriver\\remote\\errorhandler.py:229\u001b[0m, in \u001b[0;36mErrorHandler.check_response\u001b[1;34m(self, response)\u001b[0m\n\u001b[0;32m    227\u001b[0m         alert_text \u001b[39m=\u001b[39m value[\u001b[39m\"\u001b[39m\u001b[39malert\u001b[39m\u001b[39m\"\u001b[39m]\u001b[39m.\u001b[39mget(\u001b[39m\"\u001b[39m\u001b[39mtext\u001b[39m\u001b[39m\"\u001b[39m)\n\u001b[0;32m    228\u001b[0m     \u001b[39mraise\u001b[39;00m exception_class(message, screen, stacktrace, alert_text)  \u001b[39m# type: ignore[call-arg]  # mypy is not smart enough here\u001b[39;00m\n\u001b[1;32m--> 229\u001b[0m \u001b[39mraise\u001b[39;00m exception_class(message, screen, stacktrace)\n",
      "\u001b[1;31mWebDriverException\u001b[0m: Message: disconnected: not connected to DevTools\n  (failed to check if window was closed: disconnected: not connected to DevTools)\n  (Session info: MicrosoftEdge=117.0.2045.47)\nStacktrace:\n\tGetHandleVerifier [0x00007FF7978D99B2+63682]\n\tMicrosoft::Applications::Events::ILogConfiguration::operator* [0x00007FF797861902+267730]\n\t(No symbol) [0x00007FF79761AC0E]\n\t(No symbol) [0x00007FF79760391E]\n\t(No symbol) [0x00007FF797603670]\n\t(No symbol) [0x00007FF79761CF81]\n\t(No symbol) [0x00007FF7976A6418]\n\t(No symbol) [0x00007FF79768C623]\n\t(No symbol) [0x00007FF79765DA7A]\n\t(No symbol) [0x00007FF79765CD6B]\n\t(No symbol) [0x00007FF79765E204]\n\tMicrosoft::Applications::Events::EventProperty::to_string [0x00007FF797AA5EB9+1233737]\n\t(No symbol) [0x00007FF7976DB274]\n\tMicrosoft::Applications::Events::EventProperty::~EventProperty [0x00007FF7977A329A+33498]\n\tMicrosoft::Applications::Events::EventProperty::~EventProperty [0x00007FF79779BDD9+3609]\n\tMicrosoft::Applications::Events::EventProperty::to_string [0x00007FF797AA4C54+1229028]\n\tMicrosoft::Applications::Events::ILogConfiguration::operator* [0x00007FF79786BAA8+309112]\n\tMicrosoft::Applications::Events::ILogConfiguration::operator* [0x00007FF797866784+287828]\n\tMicrosoft::Applications::Events::ILogConfiguration::operator* [0x00007FF7978668B2+288130]\n\tMicrosoft::Applications::Events::ILogConfiguration::operator* [0x00007FF797859FB1+236673]\n\tBaseThreadInitThunk [0x00007FF8D07926AD+29]\n\tRtlUserThreadStart [0x00007FF8D22AAA68+40]\n"
     ]
    },
    {
     "ename": "",
     "evalue": "",
     "output_type": "error",
     "traceback": [
      "\u001b[1;31m在目前儲存格或上一個儲存格中執行程式碼時，Kernel 已損毀。請檢閱儲存格中的程式碼，找出失敗的可能原因。如需詳細資訊，請按一下<a href='https://aka.ms/vscodeJupyterKernelCrash'>這裡</a>。檢視 Jupyter <a href='command:jupyter.viewOutput'>記錄</a>，以取得進一步的詳細資料。"
     ]
    }
   ],
   "source": [
    "import pandas as pd\n",
    "Prods_prices = pd.DataFrame(columns=['ProdNames', 'Prices'])\n",
    "for page_idx in range(1, final_page_index + 1):\n",
    "  url = base_url.format(page_idx)\n",
    "  driver.get(url)\n",
    "\n",
    "  prodNames = driver.find_elements(By.CLASS_NAME, 'a-size-medium.a-color-base.a-text-normal')\n",
    "  prices = driver.find_elements(By.CLASS_NAME, 'a-price-whole')\n",
    "  prices_frac = driver.find_elements(By.CLASS_NAME, 'a-price-fraction')\n",
    "  combined_prices = [f\"{whole.text}.{frac.text}\" for whole, frac in zip(prices, prices_frac)]\n",
    "  combined_prices = combined_prices[:len(prodNames)]\n",
    "\n",
    "  new_data = pd.DataFrame(\n",
    "    {'ProdNames': [prod.text for prod in prodNames], \n",
    "     'Prices': [float(price.replace(',', '')) for price in combined_prices]}\n",
    "  )\n",
    "\n",
    "  # 使用 pd.concat 将新数据合并到现有 DataFrame\n",
    "  Prods_prices = pd.concat([Prods_prices, new_data], ignore_index=True)"
   ]
  }
 ],
 "metadata": {
  "kernelspec": {
   "display_name": "Python 3",
   "language": "python",
   "name": "python3"
  },
  "language_info": {
   "codemirror_mode": {
    "name": "ipython",
    "version": 3
   },
   "file_extension": ".py",
   "mimetype": "text/x-python",
   "name": "python",
   "nbconvert_exporter": "python",
   "pygments_lexer": "ipython3",
   "version": "3.11.5"
  },
  "orig_nbformat": 4
 },
 "nbformat": 4,
 "nbformat_minor": 2
}
